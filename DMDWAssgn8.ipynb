{
  "nbformat": 4,
  "nbformat_minor": 0,
  "metadata": {
    "colab": {
      "provenance": []
    },
    "kernelspec": {
      "name": "python3",
      "display_name": "Python 3"
    },
    "language_info": {
      "name": "python"
    }
  },
  "cells": [
    {
      "cell_type": "code",
      "source": [
        "import math\n",
        "\n",
        "def euclidean_distance(point1, point2):\n",
        "    distance = 0\n",
        "    for i in range(len(point1) - 1):\n",
        "        distance += (point1[i] - point2[i]) ** 2\n",
        "    return math.sqrt(distance)\n",
        "\n",
        "def get_neighbors(train, test, k):\n",
        "    distances = []\n",
        "    for train_row in train:\n",
        "        dist = euclidean_distance(test, train_row)\n",
        "        distances.append((train_row, dist))\n",
        "    distances.sort(key=lambda x: x[1])\n",
        "    neighbors = [dist[0] for dist in distances[:k]]\n",
        "    return neighbors\n",
        "\n",
        "def predict_class(neighbors):\n",
        "    class_votes = {}\n",
        "    for neighbor in neighbors:\n",
        "        class_label = neighbor[-1]\n",
        "        if class_label in class_votes:\n",
        "            class_votes[class_label] += 1\n",
        "        else:\n",
        "            class_votes[class_label] = 1\n",
        "    sorted_votes = sorted(class_votes.items(), key=lambda x: x[1], reverse=True)\n",
        "    return sorted_votes[0][0]\n",
        "\n",
        "def load_dataset(filename):\n",
        "    dataset = []\n",
        "    with open(filename, 'r') as file:\n",
        "        lines = file.readlines()\n",
        "\n",
        "        lines = lines[1:]\n",
        "        for line in lines:\n",
        "\n",
        "            line = line.strip()\n",
        "            if not line:\n",
        "                continue\n",
        "            row = line.split(',')\n",
        "            if len(row) == 4:\n",
        "                dataset.append([float(row[0]), float(row[1]), float(row[2]), row[3]])\n",
        "    return dataset\n",
        "\n",
        "dataset = load_dataset('/content/Height.txt')\n",
        "test_point = [1.88, 69, 47]\n",
        "k = int(input(\"K:\"))\n",
        "neighbors = get_neighbors(dataset, test_point, k)\n",
        "prediction = predict_class(neighbors)\n",
        "print(f\"The predicted class for the test point {test_point} is: {prediction}\")"
      ],
      "metadata": {
        "colab": {
          "base_uri": "https://localhost:8080/"
        },
        "id": "7eLHZAVMr0TL",
        "outputId": "d6a70991-82ca-4df5-f39a-2505123184d9"
      },
      "execution_count": 25,
      "outputs": [
        {
          "output_type": "stream",
          "name": "stdout",
          "text": [
            "K:3\n",
            "The predicted class for the test point [1.88, 69, 47] is: Scientist\n"
          ]
        }
      ]
    }
  ]
}